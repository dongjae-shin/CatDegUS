{
 "cells": [
  {
   "cell_type": "markdown",
   "id": "f9e3d43e",
   "metadata": {},
   "source": [
    "# Uncertainty Sampling (US) for a High-Throughput Reactor\n",
    "* A specific architecture of multi-channel (16 channel) reactor is considered in this example.\n",
    "* For example, a reactor is composed of 4 reactor blocks, each including 4 individual reactors.\n",
    "* The temperature of each reactor block is controlled by a single thermocouple.\n",
    "* Thus, the US algorithm in this case needs to select 4 temperatures based on posterior uncertainty first, and then suggest 4 experimental conditions by q-batch sampling approach for each selected temperature."
   ]
  },
  {
   "cell_type": "markdown",
   "id": "5b9866f2",
   "metadata": {},
   "source": [
    "## 1. Set path to a data file"
   ]
  },
  {
   "cell_type": "code",
   "execution_count": 2,
   "id": "04d1bfcc",
   "metadata": {},
   "outputs": [
    {
     "name": "stderr",
     "output_type": "stream",
     "text": [
      "/Users/dongjae/miniconda3/envs/catdegus_dev/lib/python3.13/site-packages/tqdm-4.67.1-py3.13.egg/tqdm/auto.py:21: TqdmWarning: IProgress not found. Please update jupyter and ipywidgets. See https://ipywidgets.readthedocs.io/en/stable/user_install.html\n",
      "  from .autonotebook import tqdm as notebook_tqdm\n"
     ]
    }
   ],
   "source": [
    "import catdegus.active_learning.acquisition as aq\n",
    "import catdegus.active_learning.gaussian_process as gpc\n",
    "import catdegus.visualization.plot as pl\n",
    "\n",
    "# Define the home directory and path to data\n",
    "# Target metric: initial CO2 conversion\n",
    "path = \"./20250228_sheet_for_ML_unique.xlsx\""
   ]
  },
  {
   "cell_type": "markdown",
   "id": "e5d756d9",
   "metadata": {},
   "source": [
    "## 2. Preprocess data and train a Gaussian process model \n",
    "* `path`: path to data file (excel)"
   ]
  },
  {
   "cell_type": "code",
   "execution_count": 10,
   "id": "edcca040",
   "metadata": {},
   "outputs": [
    {
     "name": "stdout",
     "output_type": "stream",
     "text": [
      "self.df.dtypes: reaction_temp                         int64\n",
      "Rh_weight_loading                   float64\n",
      "Rh_total_mass                       float64\n",
      "synth_method                          int64\n",
      "CO2 Conversion (%)_initial value    float64\n",
      "dtype: object\n",
      "numerical_features (selected):  ['reaction_temp', 'Rh_weight_loading', 'Rh_total_mass', 'synth_method']\n",
      "categorical_features (selected):  []\n"
     ]
    },
    {
     "name": "stderr",
     "output_type": "stream",
     "text": [
      "/Users/dongjae/Dropbox/0.Dongjae/04.SUNCAT@SLAC,Standford(2402~)/231128_research/240602_ML_codes/CatDegUS/catdegus/active_learning/gaussian_process.py:92: FutureWarning: Downcasting behavior in `replace` is deprecated and will be removed in a future version. To retain the old behavior, explicitly call `result.infer_objects(copy=False)`. To opt-in to the future behavior, set `pd.set_option('future.no_silent_downcasting', True)`\n",
      "  self.df.replace(\n",
      "/Users/dongjae/miniconda3/envs/catdegus_dev/lib/python3.13/site-packages/scikit_learn-1.7.0-py3.13-macosx-11.1-arm64.egg/sklearn/utils/validation.py:2749: UserWarning: X does not have valid feature names, but FunctionTransformer was fitted with feature names\n",
      "  warnings.warn(\n",
      "/Users/dongjae/miniconda3/envs/catdegus_dev/lib/python3.13/site-packages/botorch-0.14.0-py3.13.egg/botorch/models/utils/assorted.py:270: InputDataWarning: Data (input features) is not contained to the unit cube. Please consider min-max scaling the input data.\n",
      "  check_min_max_scaling(\n"
     ]
    },
    {
     "data": {
      "text/plain": [
       "SingleTaskGP(\n",
       "  (likelihood): GaussianLikelihood(\n",
       "    (noise_covar): HomoskedasticNoise(\n",
       "      (noise_prior): LogNormalPrior()\n",
       "      (raw_noise_constraint): GreaterThan(1.000E-04)\n",
       "    )\n",
       "  )\n",
       "  (mean_module): ConstantMean()\n",
       "  (covar_module): RBFKernel(\n",
       "    (lengthscale_prior): LogNormalPrior()\n",
       "    (raw_lengthscale_constraint): GreaterThan(2.500E-02)\n",
       "  )\n",
       "  (outcome_transform): Standardize()\n",
       ")"
      ]
     },
     "execution_count": 10,
     "metadata": {},
     "output_type": "execute_result"
    }
   ],
   "source": [
    "# Train the Gaussian Process model\n",
    "GP = gpc.GaussianProcess()\n",
    "GP.preprocess_data_at_once(path=path,\n",
    "                           target='CO2 Conversion (%)_initial value',\n",
    "                           x_range_min=[300, 0.1, 0.005, 0], x_range_max=[550, 1.0, 0.02, 1])\n",
    "GP.train_gp()"
   ]
  },
  {
   "cell_type": "markdown",
   "id": "5bcc907d",
   "metadata": {},
   "source": [
    "## 3. Construct a discrete grid for the optimization of an acquisition function"
   ]
  },
  {
   "cell_type": "code",
   "execution_count": 11,
   "id": "a7c3559f",
   "metadata": {},
   "outputs": [
    {
     "name": "stdout",
     "output_type": "stream",
     "text": [
      "840 combinations are possible in the constructed grid.\n"
     ]
    }
   ],
   "source": [
    "# Construct the discrete grid for optimization\n",
    "Grid = aq.DiscreteGrid(\n",
    "    GP=GP,\n",
    "    x_range_min=[300, 0.1, 0.005, 0], x_range_max=[550, 1.0, 0.02, 1], x_step=[50, 0.1, 0.0025, 1]\n",
    ")\n",
    "Grid.construct_grid()"
   ]
  },
  {
   "cell_type": "markdown",
   "id": "bf9d6b88",
   "metadata": {},
   "source": [
    "## 4. Suggestion of 16 experimental conditions by US"
   ]
  },
  {
   "cell_type": "markdown",
   "id": "e79b5568",
   "metadata": {},
   "source": [
    "* Selection of 4 temperatures with highest uncertainties averaged over the other features."
   ]
  },
  {
   "cell_type": "code",
   "execution_count": 12,
   "id": "1dac2050",
   "metadata": {},
   "outputs": [
    {
     "name": "stdout",
     "output_type": "stream",
     "text": [
      "Average Std. Dev. for each temperature:\n",
      "Temperature: 300.0 C, Average Std. Dev.: 0.7316451870272337\n",
      "Temperature: 350.0 C, Average Std. Dev.: 0.7431894608164192\n",
      "Temperature: 400.0 C, Average Std. Dev.: 0.719630454017343\n",
      "Temperature: 450.0 C, Average Std. Dev.: 0.5931891681930836\n",
      "Temperature: 500.0 C, Average Std. Dev.: 0.43990275692642694\n",
      "Temperature: 550.0 C, Average Std. Dev.: 0.681404212131157\n"
     ]
    }
   ],
   "source": [
    "# Select the top 4 uncertain temperatures based on the NP synthesis method\n",
    "top_temps = Grid.select_uncertain_temperatures(synth_method='NP', n_temperatures=4)"
   ]
  },
  {
   "cell_type": "markdown",
   "id": "40178862",
   "metadata": {},
   "source": [
    "* Using `optimize_posterior_std_dev_discrete_batch()`, q-batch sampling for specific synthesis method and temperature (two equality contraints) can be performed. Sampled points are approximated to the closest grid points.\n",
    "* Four batch-sampled conditions are suggested for each selected temperature, resulting in 16 conditions in total."
   ]
  },
  {
   "cell_type": "code",
   "execution_count": 13,
   "id": "a2d5bfd5",
   "metadata": {},
   "outputs": [
    {
     "name": "stdout",
     "output_type": "stream",
     "text": [
      "1. Selected temperature with high uncertainty: 350.0 C\n",
      "Temperature 350.0 C is transformed to 0.2.\n",
      "\n",
      "Batch candidates shape: torch.Size([4, 4])\n",
      "Acquisition values shape: torch.Size([])\n",
      "Acquisition values: 1.49676142981457\n",
      "\n",
      "Batch candidates:\n",
      "tensor([[2.0000e-01, 6.1851e-01, 4.6427e-15, 1.0000e+00],\n",
      "        [2.0000e-01, 3.0485e-01, 1.0000e+00, 1.0000e+00],\n",
      "        [2.0000e-01, 3.1947e-01, 0.0000e+00, 1.0000e+00],\n",
      "        [2.0000e-01, 6.1720e-01, 1.0000e+00, 1.0000e+00]])\n",
      "\n",
      "Batch candidates (closest grid points):\n",
      "tensor([[0.2000, 0.6667, 0.0000, 1.0000],\n",
      "        [0.2000, 0.3333, 1.0000, 1.0000],\n",
      "        [0.2000, 0.3333, 0.0000, 1.0000],\n",
      "        [0.2000, 0.6667, 1.0000, 1.0000]], dtype=torch.float64)\n"
     ]
    },
    {
     "data": {
      "application/vnd.microsoft.datawrangler.viewer.v0+json": {
       "columns": [
        {
         "name": "index",
         "rawType": "int64",
         "type": "integer"
        },
        {
         "name": "reaction_temp",
         "rawType": "int64",
         "type": "integer"
        },
        {
         "name": "Rh_weight_loading",
         "rawType": "float64",
         "type": "float"
        },
        {
         "name": "Rh_total_mass",
         "rawType": "float64",
         "type": "float"
        },
        {
         "name": "synth_method",
         "rawType": "int64",
         "type": "integer"
        }
       ],
       "ref": "0681ff49-dfc8-4e42-aab5-e330fefef58d",
       "rows": [
        [
         "112",
         "350",
         "0.7",
         "0.005",
         "1"
        ],
        [
         "97",
         "350",
         "0.4",
         "0.02",
         "1"
        ],
        [
         "91",
         "350",
         "0.4",
         "0.005",
         "1"
        ],
        [
         "118",
         "350",
         "0.7",
         "0.02",
         "1"
        ]
       ],
       "shape": {
        "columns": 4,
        "rows": 4
       }
      },
      "text/html": [
       "<div>\n",
       "<style scoped>\n",
       "    .dataframe tbody tr th:only-of-type {\n",
       "        vertical-align: middle;\n",
       "    }\n",
       "\n",
       "    .dataframe tbody tr th {\n",
       "        vertical-align: top;\n",
       "    }\n",
       "\n",
       "    .dataframe thead th {\n",
       "        text-align: right;\n",
       "    }\n",
       "</style>\n",
       "<table border=\"1\" class=\"dataframe\">\n",
       "  <thead>\n",
       "    <tr style=\"text-align: right;\">\n",
       "      <th></th>\n",
       "      <th>reaction_temp</th>\n",
       "      <th>Rh_weight_loading</th>\n",
       "      <th>Rh_total_mass</th>\n",
       "      <th>synth_method</th>\n",
       "    </tr>\n",
       "  </thead>\n",
       "  <tbody>\n",
       "    <tr>\n",
       "      <th>112</th>\n",
       "      <td>350</td>\n",
       "      <td>0.7</td>\n",
       "      <td>0.005</td>\n",
       "      <td>1</td>\n",
       "    </tr>\n",
       "    <tr>\n",
       "      <th>97</th>\n",
       "      <td>350</td>\n",
       "      <td>0.4</td>\n",
       "      <td>0.020</td>\n",
       "      <td>1</td>\n",
       "    </tr>\n",
       "    <tr>\n",
       "      <th>91</th>\n",
       "      <td>350</td>\n",
       "      <td>0.4</td>\n",
       "      <td>0.005</td>\n",
       "      <td>1</td>\n",
       "    </tr>\n",
       "    <tr>\n",
       "      <th>118</th>\n",
       "      <td>350</td>\n",
       "      <td>0.7</td>\n",
       "      <td>0.020</td>\n",
       "      <td>1</td>\n",
       "    </tr>\n",
       "  </tbody>\n",
       "</table>\n",
       "</div>"
      ],
      "text/plain": [
       "     reaction_temp  Rh_weight_loading  Rh_total_mass  synth_method\n",
       "112            350                0.7          0.005             1\n",
       "97             350                0.4          0.020             1\n",
       "91             350                0.4          0.005             1\n",
       "118            350                0.7          0.020             1"
      ]
     },
     "metadata": {},
     "output_type": "display_data"
    },
    {
     "name": "stdout",
     "output_type": "stream",
     "text": [
      "2. Selected temperature with high uncertainty: 300.0 C\n",
      "Temperature 300.0 C is transformed to 0.0.\n",
      "\n",
      "Batch candidates shape: torch.Size([4, 4])\n",
      "Acquisition values shape: torch.Size([])\n",
      "Acquisition values: 1.5324495186741025\n",
      "\n",
      "Batch candidates:\n",
      "tensor([[0.0000e+00, 3.7753e-01, 1.0000e+00, 1.0000e+00],\n",
      "        [0.0000e+00, 4.8473e-01, 1.0750e-16, 1.0000e+00],\n",
      "        [0.0000e+00, 1.0000e+00, 1.0000e+00, 1.0000e+00],\n",
      "        [0.0000e+00, 6.7328e-01, 1.0000e+00, 1.0000e+00]])\n",
      "\n",
      "Batch candidates (closest grid points):\n",
      "tensor([[0.0000, 0.3333, 1.0000, 1.0000],\n",
      "        [0.0000, 0.4444, 0.0000, 1.0000],\n",
      "        [0.0000, 1.0000, 1.0000, 1.0000],\n",
      "        [0.0000, 0.6667, 1.0000, 1.0000]], dtype=torch.float64)\n"
     ]
    },
    {
     "data": {
      "application/vnd.microsoft.datawrangler.viewer.v0+json": {
       "columns": [
        {
         "name": "index",
         "rawType": "int64",
         "type": "integer"
        },
        {
         "name": "reaction_temp",
         "rawType": "int64",
         "type": "integer"
        },
        {
         "name": "Rh_weight_loading",
         "rawType": "float64",
         "type": "float"
        },
        {
         "name": "Rh_total_mass",
         "rawType": "float64",
         "type": "float"
        },
        {
         "name": "synth_method",
         "rawType": "int64",
         "type": "integer"
        }
       ],
       "ref": "f055403f-62db-4723-af31-9322a77da06f",
       "rows": [
        [
         "27",
         "300",
         "0.4",
         "0.02",
         "1"
        ],
        [
         "28",
         "300",
         "0.5",
         "0.005",
         "1"
        ],
        [
         "69",
         "300",
         "1.0",
         "0.02",
         "1"
        ],
        [
         "48",
         "300",
         "0.7",
         "0.02",
         "1"
        ]
       ],
       "shape": {
        "columns": 4,
        "rows": 4
       }
      },
      "text/html": [
       "<div>\n",
       "<style scoped>\n",
       "    .dataframe tbody tr th:only-of-type {\n",
       "        vertical-align: middle;\n",
       "    }\n",
       "\n",
       "    .dataframe tbody tr th {\n",
       "        vertical-align: top;\n",
       "    }\n",
       "\n",
       "    .dataframe thead th {\n",
       "        text-align: right;\n",
       "    }\n",
       "</style>\n",
       "<table border=\"1\" class=\"dataframe\">\n",
       "  <thead>\n",
       "    <tr style=\"text-align: right;\">\n",
       "      <th></th>\n",
       "      <th>reaction_temp</th>\n",
       "      <th>Rh_weight_loading</th>\n",
       "      <th>Rh_total_mass</th>\n",
       "      <th>synth_method</th>\n",
       "    </tr>\n",
       "  </thead>\n",
       "  <tbody>\n",
       "    <tr>\n",
       "      <th>27</th>\n",
       "      <td>300</td>\n",
       "      <td>0.4</td>\n",
       "      <td>0.020</td>\n",
       "      <td>1</td>\n",
       "    </tr>\n",
       "    <tr>\n",
       "      <th>28</th>\n",
       "      <td>300</td>\n",
       "      <td>0.5</td>\n",
       "      <td>0.005</td>\n",
       "      <td>1</td>\n",
       "    </tr>\n",
       "    <tr>\n",
       "      <th>69</th>\n",
       "      <td>300</td>\n",
       "      <td>1.0</td>\n",
       "      <td>0.020</td>\n",
       "      <td>1</td>\n",
       "    </tr>\n",
       "    <tr>\n",
       "      <th>48</th>\n",
       "      <td>300</td>\n",
       "      <td>0.7</td>\n",
       "      <td>0.020</td>\n",
       "      <td>1</td>\n",
       "    </tr>\n",
       "  </tbody>\n",
       "</table>\n",
       "</div>"
      ],
      "text/plain": [
       "    reaction_temp  Rh_weight_loading  Rh_total_mass  synth_method\n",
       "27            300                0.4          0.020             1\n",
       "28            300                0.5          0.005             1\n",
       "69            300                1.0          0.020             1\n",
       "48            300                0.7          0.020             1"
      ]
     },
     "metadata": {},
     "output_type": "display_data"
    },
    {
     "name": "stdout",
     "output_type": "stream",
     "text": [
      "3. Selected temperature with high uncertainty: 400.0 C\n",
      "Temperature 400.0 C is transformed to 0.4.\n",
      "\n",
      "Batch candidates shape: torch.Size([4, 4])\n",
      "Acquisition values shape: torch.Size([])\n",
      "Acquisition values: 1.4504838237775561\n",
      "\n",
      "Batch candidates:\n",
      "tensor([[4.0000e-01, 1.0665e-16, 5.6509e-15, 1.0000e+00],\n",
      "        [4.0000e-01, 5.5549e-01, 1.0387e-16, 1.0000e+00],\n",
      "        [4.0000e-01, 1.0000e+00, 4.2738e-16, 1.0000e+00],\n",
      "        [4.0000e-01, 4.0327e-01, 1.0000e+00, 1.0000e+00]])\n",
      "\n",
      "Batch candidates (closest grid points):\n",
      "tensor([[0.4000, 0.0000, 0.0000, 1.0000],\n",
      "        [0.4000, 0.5556, 0.0000, 1.0000],\n",
      "        [0.4000, 1.0000, 0.0000, 1.0000],\n",
      "        [0.4000, 0.4444, 1.0000, 1.0000]], dtype=torch.float64)\n"
     ]
    },
    {
     "data": {
      "application/vnd.microsoft.datawrangler.viewer.v0+json": {
       "columns": [
        {
         "name": "index",
         "rawType": "int64",
         "type": "integer"
        },
        {
         "name": "reaction_temp",
         "rawType": "int64",
         "type": "integer"
        },
        {
         "name": "Rh_weight_loading",
         "rawType": "float64",
         "type": "float"
        },
        {
         "name": "Rh_total_mass",
         "rawType": "float64",
         "type": "float"
        },
        {
         "name": "synth_method",
         "rawType": "int64",
         "type": "integer"
        }
       ],
       "ref": "a7b09a2d-e66c-42b1-badd-09a6d9444181",
       "rows": [
        [
         "140",
         "400",
         "0.1",
         "0.005",
         "1"
        ],
        [
         "175",
         "400",
         "0.6",
         "0.005",
         "1"
        ],
        [
         "203",
         "400",
         "1.0",
         "0.005",
         "1"
        ],
        [
         "174",
         "400",
         "0.5",
         "0.02",
         "1"
        ]
       ],
       "shape": {
        "columns": 4,
        "rows": 4
       }
      },
      "text/html": [
       "<div>\n",
       "<style scoped>\n",
       "    .dataframe tbody tr th:only-of-type {\n",
       "        vertical-align: middle;\n",
       "    }\n",
       "\n",
       "    .dataframe tbody tr th {\n",
       "        vertical-align: top;\n",
       "    }\n",
       "\n",
       "    .dataframe thead th {\n",
       "        text-align: right;\n",
       "    }\n",
       "</style>\n",
       "<table border=\"1\" class=\"dataframe\">\n",
       "  <thead>\n",
       "    <tr style=\"text-align: right;\">\n",
       "      <th></th>\n",
       "      <th>reaction_temp</th>\n",
       "      <th>Rh_weight_loading</th>\n",
       "      <th>Rh_total_mass</th>\n",
       "      <th>synth_method</th>\n",
       "    </tr>\n",
       "  </thead>\n",
       "  <tbody>\n",
       "    <tr>\n",
       "      <th>140</th>\n",
       "      <td>400</td>\n",
       "      <td>0.1</td>\n",
       "      <td>0.005</td>\n",
       "      <td>1</td>\n",
       "    </tr>\n",
       "    <tr>\n",
       "      <th>175</th>\n",
       "      <td>400</td>\n",
       "      <td>0.6</td>\n",
       "      <td>0.005</td>\n",
       "      <td>1</td>\n",
       "    </tr>\n",
       "    <tr>\n",
       "      <th>203</th>\n",
       "      <td>400</td>\n",
       "      <td>1.0</td>\n",
       "      <td>0.005</td>\n",
       "      <td>1</td>\n",
       "    </tr>\n",
       "    <tr>\n",
       "      <th>174</th>\n",
       "      <td>400</td>\n",
       "      <td>0.5</td>\n",
       "      <td>0.020</td>\n",
       "      <td>1</td>\n",
       "    </tr>\n",
       "  </tbody>\n",
       "</table>\n",
       "</div>"
      ],
      "text/plain": [
       "     reaction_temp  Rh_weight_loading  Rh_total_mass  synth_method\n",
       "140            400                0.1          0.005             1\n",
       "175            400                0.6          0.005             1\n",
       "203            400                1.0          0.005             1\n",
       "174            400                0.5          0.020             1"
      ]
     },
     "metadata": {},
     "output_type": "display_data"
    },
    {
     "name": "stdout",
     "output_type": "stream",
     "text": [
      "4. Selected temperature with high uncertainty: 550.0 C\n",
      "Temperature 550.0 C is transformed to 1.0.\n",
      "\n",
      "Batch candidates shape: torch.Size([4, 4])\n",
      "Acquisition values shape: torch.Size([])\n",
      "Acquisition values: 1.5221659698050514\n",
      "\n",
      "Batch candidates:\n",
      "tensor([[1.0000e+00, 6.9227e-01, 1.0890e-14, 1.0000e+00],\n",
      "        [1.0000e+00, 1.0000e+00, 3.9371e-16, 1.0000e+00],\n",
      "        [1.0000e+00, 1.0000e+00, 1.0000e+00, 1.0000e+00],\n",
      "        [1.0000e+00, 4.1390e-16, 9.5716e-15, 1.0000e+00]])\n",
      "\n",
      "Batch candidates (closest grid points):\n",
      "tensor([[1.0000, 0.6667, 0.0000, 1.0000],\n",
      "        [1.0000, 1.0000, 0.0000, 1.0000],\n",
      "        [1.0000, 1.0000, 1.0000, 1.0000],\n",
      "        [1.0000, 0.0000, 0.0000, 1.0000]], dtype=torch.float64)\n"
     ]
    },
    {
     "data": {
      "application/vnd.microsoft.datawrangler.viewer.v0+json": {
       "columns": [
        {
         "name": "index",
         "rawType": "int64",
         "type": "integer"
        },
        {
         "name": "reaction_temp",
         "rawType": "int64",
         "type": "integer"
        },
        {
         "name": "Rh_weight_loading",
         "rawType": "float64",
         "type": "float"
        },
        {
         "name": "Rh_total_mass",
         "rawType": "float64",
         "type": "float"
        },
        {
         "name": "synth_method",
         "rawType": "int64",
         "type": "integer"
        }
       ],
       "ref": "45b94703-6276-47dc-bf49-9e158d83ad21",
       "rows": [
        [
         "392",
         "550",
         "0.7",
         "0.005",
         "1"
        ],
        [
         "413",
         "550",
         "1.0",
         "0.005",
         "1"
        ],
        [
         "419",
         "550",
         "1.0",
         "0.02",
         "1"
        ],
        [
         "350",
         "550",
         "0.1",
         "0.005",
         "1"
        ]
       ],
       "shape": {
        "columns": 4,
        "rows": 4
       }
      },
      "text/html": [
       "<div>\n",
       "<style scoped>\n",
       "    .dataframe tbody tr th:only-of-type {\n",
       "        vertical-align: middle;\n",
       "    }\n",
       "\n",
       "    .dataframe tbody tr th {\n",
       "        vertical-align: top;\n",
       "    }\n",
       "\n",
       "    .dataframe thead th {\n",
       "        text-align: right;\n",
       "    }\n",
       "</style>\n",
       "<table border=\"1\" class=\"dataframe\">\n",
       "  <thead>\n",
       "    <tr style=\"text-align: right;\">\n",
       "      <th></th>\n",
       "      <th>reaction_temp</th>\n",
       "      <th>Rh_weight_loading</th>\n",
       "      <th>Rh_total_mass</th>\n",
       "      <th>synth_method</th>\n",
       "    </tr>\n",
       "  </thead>\n",
       "  <tbody>\n",
       "    <tr>\n",
       "      <th>392</th>\n",
       "      <td>550</td>\n",
       "      <td>0.7</td>\n",
       "      <td>0.005</td>\n",
       "      <td>1</td>\n",
       "    </tr>\n",
       "    <tr>\n",
       "      <th>413</th>\n",
       "      <td>550</td>\n",
       "      <td>1.0</td>\n",
       "      <td>0.005</td>\n",
       "      <td>1</td>\n",
       "    </tr>\n",
       "    <tr>\n",
       "      <th>419</th>\n",
       "      <td>550</td>\n",
       "      <td>1.0</td>\n",
       "      <td>0.020</td>\n",
       "      <td>1</td>\n",
       "    </tr>\n",
       "    <tr>\n",
       "      <th>350</th>\n",
       "      <td>550</td>\n",
       "      <td>0.1</td>\n",
       "      <td>0.005</td>\n",
       "      <td>1</td>\n",
       "    </tr>\n",
       "  </tbody>\n",
       "</table>\n",
       "</div>"
      ],
      "text/plain": [
       "     reaction_temp  Rh_weight_loading  Rh_total_mass  synth_method\n",
       "392            550                0.7          0.005             1\n",
       "413            550                1.0          0.005             1\n",
       "419            550                1.0          0.020             1\n",
       "350            550                0.1          0.005             1"
      ]
     },
     "metadata": {},
     "output_type": "display_data"
    }
   ],
   "source": [
    "for i, temp in enumerate(top_temps):\n",
    "    print(f'{i+1}. Selected temperature with high uncertainty: {temp} C')\n",
    "    # 2) batch sampling with two equality constraints (synthesis method and temperature)\n",
    "    display(\n",
    "        Grid.optimize_posterior_std_dev_discrete_batch(\n",
    "        synth_method='NP',\n",
    "        temperature=temp,\n",
    "        n_candidates=4,\n",
    "        )\n",
    "    )"
   ]
  }
 ],
 "metadata": {
  "kernelspec": {
   "display_name": "catdegus_dev",
   "language": "python",
   "name": "python3"
  },
  "language_info": {
   "codemirror_mode": {
    "name": "ipython",
    "version": 3
   },
   "file_extension": ".py",
   "mimetype": "text/x-python",
   "name": "python",
   "nbconvert_exporter": "python",
   "pygments_lexer": "ipython3",
   "version": "3.13.5"
  }
 },
 "nbformat": 4,
 "nbformat_minor": 5
}
